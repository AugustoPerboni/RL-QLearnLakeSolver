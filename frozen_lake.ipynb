{
 "cells": [
  {
   "cell_type": "code",
   "execution_count": 130,
   "metadata": {},
   "outputs": [],
   "source": [
    "from IPython.display import clear_output\n",
    "import numpy as np\n",
    "import gym\n",
    "import random\n",
    "import time"
   ]
  },
  {
   "cell_type": "code",
   "execution_count": 131,
   "metadata": {},
   "outputs": [],
   "source": [
    "# Create the env\n",
    "env = gym.make('FrozenLake-v1', render_mode='ansi',  is_slippery=True)"
   ]
  },
  {
   "cell_type": "code",
   "execution_count": 132,
   "metadata": {},
   "outputs": [],
   "source": [
    "# Get the size of the action space\n",
    "action_space_size = env.action_space.n \n",
    "\n",
    "# Get the size of the state space\n",
    "state_space_size = env.observation_space.n\n",
    "\n",
    "# Initialize the Q-table with zeros \n",
    "q_table = np.zeros( (state_space_size, action_space_size) )"
   ]
  },
  {
   "cell_type": "code",
   "execution_count": 133,
   "metadata": {},
   "outputs": [],
   "source": [
    "# Initializing Q-learning Parameters\n",
    "num_episodes = 10000\n",
    "max_steps_per_episode = 100\n",
    "\n",
    "learning_rate = 0.1\n",
    "discount_rate = 0.99\n",
    "\n",
    "exploration_rate = 1\n",
    "max_exploration_rate = 1\n",
    "min_exploration_rate = 0.01\n",
    "exploration_decay_rate = 0.001"
   ]
  },
  {
   "cell_type": "markdown",
   "metadata": {},
   "source": [
    "## Possible actions\n",
    "\n",
    "0: Move left\n",
    "\n",
    "1: Move down\n",
    "\n",
    "2: Move right\n",
    "\n",
    "3: Move up"
   ]
  },
  {
   "cell_type": "markdown",
   "metadata": {},
   "source": [
    "# Q-learning algorithm\n",
    "for episode in range(num_episodes):\n",
    "    # initialize new episode params\n",
    "\n",
    "    for step in range(max_steps_per_episode): \n",
    "        # Exploration-exploitation trade-off\n",
    "        # Take new action\n",
    "        # Update Q-table\n",
    "        # Set new state\n",
    "        # Add new reward        \n",
    "\n",
    "    # Exploration rate decay   \n",
    "    # Add current episode reward to total rewards list"
   ]
  },
  {
   "cell_type": "code",
   "execution_count": 134,
   "metadata": {},
   "outputs": [
    {
     "name": "stdout",
     "output_type": "stream",
     "text": [
      "********Average reward per thousand episodes********\n",
      "\n",
      "1000 :  0.036000000000000025\n",
      "2000 :  0.20700000000000016\n",
      "3000 :  0.4200000000000003\n",
      "4000 :  0.5650000000000004\n",
      "5000 :  0.6340000000000005\n",
      "6000 :  0.6630000000000005\n",
      "7000 :  0.6920000000000005\n",
      "8000 :  0.6810000000000005\n",
      "9000 :  0.6860000000000005\n",
      "10000 :  0.6630000000000005\n",
      "\n",
      "\n",
      "********Q-table********\n",
      "\n",
      "[[0.5712617  0.50521806 0.49041217 0.4878195 ]\n",
      " [0.19522335 0.30856165 0.16840755 0.50180022]\n",
      " [0.42233355 0.40832941 0.41094513 0.47173372]\n",
      " [0.40523119 0.28963761 0.25493098 0.4496651 ]\n",
      " [0.591076   0.44916552 0.25790437 0.35649698]\n",
      " [0.         0.         0.         0.        ]\n",
      " [0.43608351 0.12982108 0.18267638 0.12342126]\n",
      " [0.         0.         0.         0.        ]\n",
      " [0.30437798 0.38323388 0.52341424 0.61293174]\n",
      " [0.54582459 0.65349731 0.54402312 0.22991702]\n",
      " [0.62534759 0.43005125 0.36858438 0.3284189 ]\n",
      " [0.         0.         0.         0.        ]\n",
      " [0.         0.         0.         0.        ]\n",
      " [0.43031382 0.62537097 0.75186664 0.48758721]\n",
      " [0.71774057 0.83433857 0.7649952  0.72309222]\n",
      " [0.         0.         0.         0.        ]]\n"
     ]
    }
   ],
   "source": [
    "rewards_all_episodes = []\n",
    "\n",
    "for episode in range(num_episodes):\n",
    "    state = env.reset()[0]       # Put the character in the start position\n",
    "    done = False                 # Flag that the game is reached the end\n",
    "    rewards_current_episode = 0  # Start the game with no point of reward\n",
    "\n",
    "    for step in range(max_steps_per_episode):\n",
    "\n",
    "        # Check wether will explore or exploite \n",
    "        exploration_rate_treshold = random.uniform(0, 1)\n",
    "        if exploration_rate_treshold > exploration_rate: # exploite\n",
    "            action = np.argmax(q_table[state,:]) # select the action with higher Q-value\n",
    "        else: # Explore\n",
    "            action = env.action_space.sample()\n",
    "\n",
    "        # Taking action\n",
    "        new_state, reward, done, truncated, info = env.step(action)\n",
    "\n",
    "        q_table[state, action] =  q_table[state, action] *(1 - learning_rate)  + learning_rate * (reward + discount_rate * np.max(q_table[new_state, :]))\n",
    "\n",
    "        # Change to the new state after the action taken\n",
    "        state = new_state\n",
    "\n",
    "        # Add the reward of the current step to the episode\n",
    "        rewards_current_episode += reward \n",
    "\n",
    "        if done == True: \n",
    "            break\n",
    "    \n",
    "    # Add the reward to the history list\n",
    "    rewards_all_episodes.append(rewards_current_episode)\n",
    "\n",
    "    # Exploration rate decay\n",
    "    exploration_rate = min_exploration_rate + (max_exploration_rate - min_exploration_rate) * np.exp(-exploration_decay_rate*episode)\n",
    "\n",
    "# Calculate and print the average reward per thousand episodes\n",
    "rewards_per_thousand_episodes = np.split(np.array(rewards_all_episodes),num_episodes/1000)\n",
    "count = 1000\n",
    "\n",
    "# Print the results\n",
    "print(\"********Average reward per thousand episodes********\\n\")\n",
    "for r in rewards_per_thousand_episodes:\n",
    "    print(count, \": \", str(sum(r/1000)))\n",
    "    count += 1000\n",
    "\n",
    "print(\"\\n\\n********Q-table********\\n\")\n",
    "print(q_table)"
   ]
  },
  {
   "cell_type": "code",
   "execution_count": 136,
   "metadata": {},
   "outputs": [
    {
     "name": "stdout",
     "output_type": "stream",
     "text": [
      "  (Down)\n",
      "SFFF\n",
      "FHFH\n",
      "FFFH\n",
      "HFF\u001b[41mG\u001b[0m\n",
      "\n",
      "****You reached the goal!****\n"
     ]
    }
   ],
   "source": [
    "# Vizualisation of the game code\n",
    "for episode in range(3):\n",
    "    state = env.reset()[0]\n",
    "    done = False\n",
    "    print(\"*****EPISODE \", episode+1, \"*****\\n\\n\\n\\n\")\n",
    "    time.sleep(1)\n",
    "\n",
    "    for step in range(max_steps_per_episode):        \n",
    "        clear_output(wait=True)\n",
    "        print(env.render())\n",
    "        time.sleep(0.3)\n",
    "\n",
    "        action = np.argmax(q_table[state,:])        \n",
    "        new_state, reward, done, truncated, info = env.step(action)\n",
    "\n",
    "        if done:\n",
    "            clear_output(wait=True)\n",
    "            print(env.render())\n",
    "            if reward == 1:\n",
    "                print(\"****You reached the goal!****\")\n",
    "                time.sleep(3)\n",
    "            else:\n",
    "                print(\"****You fell through a hole!****\")\n",
    "                time.sleep(3)\n",
    "            clear_output(wait=True)\n",
    "            break\n",
    "        state = new_state\n",
    "env.close()"
   ]
  },
  {
   "cell_type": "code",
   "execution_count": null,
   "metadata": {},
   "outputs": [],
   "source": []
  }
 ],
 "metadata": {
  "kernelspec": {
   "display_name": "tf",
   "language": "python",
   "name": "python3"
  },
  "language_info": {
   "codemirror_mode": {
    "name": "ipython",
    "version": 3
   },
   "file_extension": ".py",
   "mimetype": "text/x-python",
   "name": "python",
   "nbconvert_exporter": "python",
   "pygments_lexer": "ipython3",
   "version": "3.9.16"
  },
  "orig_nbformat": 4
 },
 "nbformat": 4,
 "nbformat_minor": 2
}
